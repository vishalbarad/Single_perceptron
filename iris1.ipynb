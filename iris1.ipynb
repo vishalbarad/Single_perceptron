{
 "cells": [
  {
   "cell_type": "code",
   "execution_count": 115,
   "metadata": {},
   "outputs": [],
   "source": [
    "import numpy as np\n",
    "import pandas as pd\n",
    "import matplotlib.pyplot as plt"
   ]
  },
  {
   "cell_type": "code",
   "execution_count": 116,
   "metadata": {},
   "outputs": [],
   "source": [
    "#import kera\n",
    "from sklearn.model_selection import train_test_split\n",
    "from sklearn.preprocessing import StandardScaler\n",
    "from tensorflow.keras.models import Sequential\n",
    "from tensorflow.keras.layers import Dense \n",
    "from tensorflow.keras.layers import Dropout \n",
    "from tensorflow.keras.layers import LeakyReLU,ReLU,ELU \n",
    "from sklearn.metrics import accuracy_score"
   ]
  },
  {
   "cell_type": "code",
   "execution_count": 117,
   "metadata": {},
   "outputs": [],
   "source": [
    "df = pd.read_csv(\"iris.csv\")"
   ]
  },
  {
   "cell_type": "code",
   "execution_count": 118,
   "metadata": {},
   "outputs": [
    {
     "data": {
      "text/html": [
       "<div>\n",
       "<style scoped>\n",
       "    .dataframe tbody tr th:only-of-type {\n",
       "        vertical-align: middle;\n",
       "    }\n",
       "\n",
       "    .dataframe tbody tr th {\n",
       "        vertical-align: top;\n",
       "    }\n",
       "\n",
       "    .dataframe thead th {\n",
       "        text-align: right;\n",
       "    }\n",
       "</style>\n",
       "<table border=\"1\" class=\"dataframe\">\n",
       "  <thead>\n",
       "    <tr style=\"text-align: right;\">\n",
       "      <th></th>\n",
       "      <th>A</th>\n",
       "      <th>B</th>\n",
       "      <th>C</th>\n",
       "      <th>D</th>\n",
       "      <th>E</th>\n",
       "    </tr>\n",
       "  </thead>\n",
       "  <tbody>\n",
       "    <tr>\n",
       "      <th>0</th>\n",
       "      <td>5.1</td>\n",
       "      <td>3.5</td>\n",
       "      <td>1.4</td>\n",
       "      <td>0.2</td>\n",
       "      <td>Iris-setosa</td>\n",
       "    </tr>\n",
       "    <tr>\n",
       "      <th>1</th>\n",
       "      <td>4.9</td>\n",
       "      <td>3.0</td>\n",
       "      <td>1.4</td>\n",
       "      <td>0.2</td>\n",
       "      <td>Iris-setosa</td>\n",
       "    </tr>\n",
       "    <tr>\n",
       "      <th>2</th>\n",
       "      <td>4.7</td>\n",
       "      <td>3.2</td>\n",
       "      <td>1.3</td>\n",
       "      <td>0.2</td>\n",
       "      <td>Iris-setosa</td>\n",
       "    </tr>\n",
       "    <tr>\n",
       "      <th>3</th>\n",
       "      <td>4.6</td>\n",
       "      <td>3.1</td>\n",
       "      <td>1.5</td>\n",
       "      <td>0.2</td>\n",
       "      <td>Iris-setosa</td>\n",
       "    </tr>\n",
       "    <tr>\n",
       "      <th>4</th>\n",
       "      <td>5.0</td>\n",
       "      <td>3.6</td>\n",
       "      <td>1.4</td>\n",
       "      <td>0.2</td>\n",
       "      <td>Iris-setosa</td>\n",
       "    </tr>\n",
       "  </tbody>\n",
       "</table>\n",
       "</div>"
      ],
      "text/plain": [
       "     A    B    C    D            E\n",
       "0  5.1  3.5  1.4  0.2  Iris-setosa\n",
       "1  4.9  3.0  1.4  0.2  Iris-setosa\n",
       "2  4.7  3.2  1.3  0.2  Iris-setosa\n",
       "3  4.6  3.1  1.5  0.2  Iris-setosa\n",
       "4  5.0  3.6  1.4  0.2  Iris-setosa"
      ]
     },
     "execution_count": 118,
     "metadata": {},
     "output_type": "execute_result"
    }
   ],
   "source": [
    "df.head()"
   ]
  },
  {
   "cell_type": "code",
   "execution_count": 119,
   "metadata": {},
   "outputs": [
    {
     "data": {
      "text/plain": [
       "Iris-setosa        50\n",
       "Iris-versicolor    49\n",
       "Name: E, dtype: int64"
      ]
     },
     "execution_count": 119,
     "metadata": {},
     "output_type": "execute_result"
    }
   ],
   "source": [
    "df['E'].value_counts()"
   ]
  },
  {
   "cell_type": "code",
   "execution_count": 120,
   "metadata": {},
   "outputs": [
    {
     "data": {
      "text/plain": [
       "(99, 5)"
      ]
     },
     "execution_count": 120,
     "metadata": {},
     "output_type": "execute_result"
    }
   ],
   "source": [
    "df.shape"
   ]
  },
  {
   "cell_type": "code",
   "execution_count": 121,
   "metadata": {},
   "outputs": [
    {
     "data": {
      "text/plain": [
       "A    0\n",
       "B    0\n",
       "C    0\n",
       "D    0\n",
       "E    0\n",
       "dtype: int64"
      ]
     },
     "execution_count": 121,
     "metadata": {},
     "output_type": "execute_result"
    }
   ],
   "source": [
    "df.isnull().sum()"
   ]
  },
  {
   "cell_type": "code",
   "execution_count": 122,
   "metadata": {},
   "outputs": [],
   "source": [
    "df['E'] = np.where(df['E'] == 'Iris-setosa', 0, 1)"
   ]
  },
  {
   "cell_type": "code",
   "execution_count": 123,
   "metadata": {},
   "outputs": [],
   "source": [
    "X = df.drop('E',axis=1)\n",
    "y = df['E']"
   ]
  },
  {
   "cell_type": "code",
   "execution_count": 124,
   "metadata": {},
   "outputs": [],
   "source": [
    "def plot(df):\n",
    "    plt.scatter(df[df['E']==0].A,df[df['E']==0].B, color='red', marker='o', label='setosa')\n",
    "    plt.scatter(df[df['E']==1].A,df[df['E']==1].B, color='blue', marker='o', label='versicolor')\n",
    "    plt.xlabel('petal length')\n",
    "    plt.ylabel('sepal length')\n",
    "    plt.legend(loc='upper left')\n",
    "    plt.show()\n",
    "    \n",
    "    plt.scatter(df[df['E']==0].C,df[df['E']==0].D, color='red', marker='o', label='setosa')\n",
    "    plt.scatter(df[df['E']==1].C,df[df['E']==1].D, color='blue', marker='o', label='versicolor')\n",
    "    plt.xlabel('petal length')\n",
    "    plt.ylabel('sepal length')\n",
    "    plt.legend(loc='upper left')\n",
    "    plt.show()"
   ]
  },
  {
   "cell_type": "code",
   "execution_count": 125,
   "metadata": {},
   "outputs": [],
   "source": [
    "def predict(df,X,y):\n",
    "    X_train, X_test, y_train, y_test = train_test_split(X,y,test_size=0.2,random_state=0)\n",
    "    scaler = StandardScaler()\n",
    "    X_train = scaler.fit_transform(X_train)\n",
    "    X_test = scaler.fit_transform(X_test)\n",
    "    classifier = Sequential()\n",
    "    #Input layer\n",
    "    classifier.add(Dense(units= 6,kernel_initializer='he_uniform',activation='relu',input_dim=4))\n",
    "    #First hidden layer\n",
    "    classifier.add(Dense(2))\n",
    "    classifier.add(Dropout(0.1))\n",
    "    #Output layer\n",
    "    classifier.add(Dense(units=1,kernel_initializer='glorot_uniform',activation='sigmoid'))\n",
    "    classifier.compile(optimizer='adam',loss='binary_crossentropy',metrics=['accuracy'])\n",
    "    model_history = classifier.fit(X_train,y_train,validation_split=0.3,batch_size=10,epochs=100)"
   ]
  },
  {
   "cell_type": "code",
   "execution_count": 126,
   "metadata": {},
   "outputs": [],
   "source": [
    "def accuracy_plot():\n",
    "    plt.plot(model_history.history['accuracy'])\n",
    "    plt.plot(model_history.history['val_accuracy'])\n",
    "    plt.title(\"Model accuracy\")\n",
    "    plt.ylabel(\"Accuracy\")\n",
    "    plt.xlabel(\"epoch\")"
   ]
  },
  {
   "cell_type": "code",
   "execution_count": 127,
   "metadata": {},
   "outputs": [],
   "source": [
    "#Making prediction and evaluating model\n",
    "def prediction_acc():\n",
    "    y_pred = classifier.predict(X_test)\n",
    "    y_pred = (y_pred>0.5)\n",
    "    score = accuracy_score(y_pred,y_test)\n",
    "    print(score)"
   ]
  },
  {
   "cell_type": "code",
   "execution_count": 128,
   "metadata": {},
   "outputs": [
    {
     "data": {
      "image/png": "[encoded data removed]",
      "text/plain": [
       "<Figure size 432x288 with 1 Axes>"
      ]
     },
     "metadata": {
      "needs_background": "light"
     },
     "output_type": "display_data"
    },
    {
     "data": {
      "image/png": "[encoded data removed]",
      "text/plain": [
       "<Figure size 432x288 with 1 Axes>"
      ]
     },
     "metadata": {
      "needs_background": "light"
     },
     "output_type": "display_data"
    }
   ],
   "source": [
    "plot(df)\n"
   ]
  },
  {
   "cell_type": "code",
   "execution_count": 129,
   "metadata": {},
   "outputs": [
    {
     "name": "stdout",
     "output_type": "stream",
     "text": [
      "Epoch 1/100\n",
      "6/6 [==============================] - 0s 28ms/step - loss: 0.4660 - accuracy: 0.8545 - val_loss: 0.4733 - val_accuracy: 0.7917\n",
      "Epoch 2/100\n",
      "6/6 [==============================] - 0s 8ms/step - loss: 0.4346 - accuracy: 0.8545 - val_loss: 0.4566 - val_accuracy: 0.8333\n",
      "Epoch 3/100\n",
      "6/6 [==============================] - 0s 8ms/step - loss: 0.4455 - accuracy: 0.8000 - val_loss: 0.4412 - val_accuracy: 0.9583\n",
      "Epoch 4/100\n",
      "6/6 [==============================] - 0s 9ms/step - loss: 0.4144 - accuracy: 0.9091 - val_loss: 0.4271 - val_accuracy: 1.0000\n",
      "Epoch 5/100\n",
      "6/6 [==============================] - 0s 12ms/step - loss: 0.4431 - accuracy: 0.8545 - val_loss: 0.4131 - val_accuracy: 1.0000\n",
      "Epoch 6/100\n",
      "6/6 [==============================] - 0s 8ms/step - loss: 0.3878 - accuracy: 0.9091 - val_loss: 0.3997 - val_accuracy: 1.0000\n",
      "Epoch 7/100\n",
      "6/6 [==============================] - 0s 9ms/step - loss: 0.4060 - accuracy: 0.9273 - val_loss: 0.3861 - val_accuracy: 1.0000\n",
      "Epoch 8/100\n",
      "6/6 [==============================] - 0s 6ms/step - loss: 0.3858 - accuracy: 0.8909 - val_loss: 0.3732 - val_accuracy: 1.0000\n",
      "Epoch 9/100\n",
      "6/6 [==============================] - 0s 13ms/step - loss: 0.3339 - accuracy: 0.9636 - val_loss: 0.3610 - val_accuracy: 1.0000\n",
      "Epoch 10/100\n",
      "6/6 [==============================] - 0s 9ms/step - loss: 0.3356 - accuracy: 0.9455 - val_loss: 0.3487 - val_accuracy: 1.0000\n",
      "Epoch 11/100\n",
      "6/6 [==============================] - 0s 8ms/step - loss: 0.3347 - accuracy: 0.9455 - val_loss: 0.3367 - val_accuracy: 1.0000\n",
      "Epoch 12/100\n",
      "6/6 [==============================] - 0s 9ms/step - loss: 0.3320 - accuracy: 0.9455 - val_loss: 0.3255 - val_accuracy: 1.0000\n",
      "Epoch 13/100\n",
      "6/6 [==============================] - 0s 9ms/step - loss: 0.3332 - accuracy: 0.9273 - val_loss: 0.3147 - val_accuracy: 1.0000\n",
      "Epoch 14/100\n",
      "6/6 [==============================] - 0s 9ms/step - loss: 0.2913 - accuracy: 0.9636 - val_loss: 0.3043 - val_accuracy: 1.0000\n",
      "Epoch 15/100\n",
      "6/6 [==============================] - 0s 7ms/step - loss: 0.2598 - accuracy: 0.9818 - val_loss: 0.2939 - val_accuracy: 1.0000\n",
      "Epoch 16/100\n",
      "6/6 [==============================] - 0s 8ms/step - loss: 0.2677 - accuracy: 0.9636 - val_loss: 0.2838 - val_accuracy: 1.0000\n",
      "Epoch 17/100\n",
      "6/6 [==============================] - 0s 6ms/step - loss: 0.2550 - accuracy: 0.9818 - val_loss: 0.2740 - val_accuracy: 1.0000\n",
      "Epoch 18/100\n",
      "6/6 [==============================] - 0s 6ms/step - loss: 0.2788 - accuracy: 0.9273 - val_loss: 0.2646 - val_accuracy: 1.0000\n",
      "Epoch 19/100\n",
      "6/6 [==============================] - 0s 9ms/step - loss: 0.2547 - accuracy: 0.9636 - val_loss: 0.2554 - val_accuracy: 1.0000\n",
      "Epoch 20/100\n",
      "6/6 [==============================] - 0s 8ms/step - loss: 0.2504 - accuracy: 0.9818 - val_loss: 0.2464 - val_accuracy: 1.0000\n",
      "Epoch 21/100\n",
      "6/6 [==============================] - 0s 7ms/step - loss: 0.2643 - accuracy: 0.9455 - val_loss: 0.2376 - val_accuracy: 1.0000\n",
      "Epoch 22/100\n",
      "6/6 [==============================] - 0s 9ms/step - loss: 0.2381 - accuracy: 0.9636 - val_loss: 0.2291 - val_accuracy: 1.0000\n",
      "Epoch 23/100\n",
      "6/6 [==============================] - 0s 7ms/step - loss: 0.2293 - accuracy: 0.9818 - val_loss: 0.2208 - val_accuracy: 1.0000\n",
      "Epoch 24/100\n",
      "6/6 [==============================] - 0s 6ms/step - loss: 0.2164 - accuracy: 0.9636 - val_loss: 0.2129 - val_accuracy: 1.0000\n",
      "Epoch 25/100\n",
      "6/6 [==============================] - 0s 7ms/step - loss: 0.2024 - accuracy: 0.9636 - val_loss: 0.2051 - val_accuracy: 1.0000\n",
      "Epoch 26/100\n",
      "6/6 [==============================] - 0s 7ms/step - loss: 0.2336 - accuracy: 0.9818 - val_loss: 0.1975 - val_accuracy: 1.0000\n",
      "Epoch 27/100\n",
      "6/6 [==============================] - 0s 7ms/step - loss: 0.2133 - accuracy: 1.0000 - val_loss: 0.1901 - val_accuracy: 1.0000\n",
      "Epoch 28/100\n",
      "6/6 [==============================] - 0s 7ms/step - loss: 0.1852 - accuracy: 0.9818 - val_loss: 0.1829 - val_accuracy: 1.0000\n",
      "Epoch 29/100\n",
      "6/6 [==============================] - 0s 9ms/step - loss: 0.1714 - accuracy: 1.0000 - val_loss: 0.1754 - val_accuracy: 1.0000\n",
      "Epoch 30/100\n",
      "6/6 [==============================] - 0s 7ms/step - loss: 0.1759 - accuracy: 1.0000 - val_loss: 0.1682 - val_accuracy: 1.0000\n",
      "Epoch 31/100\n",
      "6/6 [==============================] - 0s 8ms/step - loss: 0.1769 - accuracy: 0.9818 - val_loss: 0.1613 - val_accuracy: 1.0000\n",
      "Epoch 32/100\n",
      "6/6 [==============================] - 0s 9ms/step - loss: 0.1692 - accuracy: 1.0000 - val_loss: 0.1545 - val_accuracy: 1.0000\n",
      "Epoch 33/100\n",
      "6/6 [==============================] - 0s 7ms/step - loss: 0.1560 - accuracy: 1.0000 - val_loss: 0.1479 - val_accuracy: 1.0000\n",
      "Epoch 34/100\n",
      "6/6 [==============================] - 0s 7ms/step - loss: 0.1587 - accuracy: 0.9818 - val_loss: 0.1413 - val_accuracy: 1.0000\n",
      "Epoch 35/100\n",
      "6/6 [==============================] - 0s 7ms/step - loss: 0.1360 - accuracy: 0.9818 - val_loss: 0.1352 - val_accuracy: 1.0000\n",
      "Epoch 36/100\n",
      "6/6 [==============================] - 0s 8ms/step - loss: 0.1253 - accuracy: 1.0000 - val_loss: 0.1296 - val_accuracy: 1.0000\n",
      "Epoch 37/100\n",
      "6/6 [==============================] - 0s 9ms/step - loss: 0.1306 - accuracy: 0.9818 - val_loss: 0.1240 - val_accuracy: 1.0000\n",
      "Epoch 38/100\n",
      "6/6 [==============================] - 0s 8ms/step - loss: 0.1379 - accuracy: 1.0000 - val_loss: 0.1188 - val_accuracy: 1.0000\n",
      "Epoch 39/100\n",
      "6/6 [==============================] - 0s 6ms/step - loss: 0.1311 - accuracy: 1.0000 - val_loss: 0.1139 - val_accuracy: 1.0000\n",
      "Epoch 40/100\n",
      "6/6 [==============================] - 0s 9ms/step - loss: 0.1091 - accuracy: 1.0000 - val_loss: 0.1092 - val_accuracy: 1.0000\n",
      "Epoch 41/100\n",
      "6/6 [==============================] - 0s 7ms/step - loss: 0.1518 - accuracy: 0.9273 - val_loss: 0.1046 - val_accuracy: 1.0000\n",
      "Epoch 42/100\n",
      "6/6 [==============================] - 0s 6ms/step - loss: 0.0970 - accuracy: 1.0000 - val_loss: 0.1002 - val_accuracy: 1.0000\n",
      "Epoch 43/100\n",
      "6/6 [==============================] - 0s 11ms/step - loss: 0.1053 - accuracy: 1.0000 - val_loss: 0.0960 - val_accuracy: 1.0000\n",
      "Epoch 44/100\n",
      "6/6 [==============================] - 0s 6ms/step - loss: 0.1348 - accuracy: 1.0000 - val_loss: 0.0919 - val_accuracy: 1.0000\n",
      "Epoch 45/100\n",
      "6/6 [==============================] - 0s 7ms/step - loss: 0.1080 - accuracy: 1.0000 - val_loss: 0.0877 - val_accuracy: 1.0000\n",
      "Epoch 46/100\n",
      "6/6 [==============================] - 0s 7ms/step - loss: 0.1137 - accuracy: 1.0000 - val_loss: 0.0838 - val_accuracy: 1.0000\n",
      "Epoch 47/100\n",
      "6/6 [==============================] - 0s 7ms/step - loss: 0.1063 - accuracy: 1.0000 - val_loss: 0.0801 - val_accuracy: 1.0000\n",
      "Epoch 48/100\n",
      "6/6 [==============================] - 0s 8ms/step - loss: 0.1061 - accuracy: 0.9636 - val_loss: 0.0767 - val_accuracy: 1.0000\n",
      "Epoch 49/100\n",
      "6/6 [==============================] - 0s 8ms/step - loss: 0.0926 - accuracy: 0.9818 - val_loss: 0.0735 - val_accuracy: 1.0000\n",
      "Epoch 50/100\n",
      "6/6 [==============================] - 0s 10ms/step - loss: 0.1057 - accuracy: 0.9818 - val_loss: 0.0705 - val_accuracy: 1.0000\n",
      "Epoch 51/100\n",
      "6/6 [==============================] - 0s 8ms/step - loss: 0.0710 - accuracy: 1.0000 - val_loss: 0.0676 - val_accuracy: 1.0000\n",
      "Epoch 52/100\n",
      "6/6 [==============================] - 0s 7ms/step - loss: 0.0781 - accuracy: 1.0000 - val_loss: 0.0648 - val_accuracy: 1.0000\n",
      "Epoch 53/100\n",
      "6/6 [==============================] - 0s 6ms/step - loss: 0.0774 - accuracy: 1.0000 - val_loss: 0.0621 - val_accuracy: 1.0000\n",
      "Epoch 54/100\n",
      "6/6 [==============================] - 0s 7ms/step - loss: 0.0944 - accuracy: 0.9818 - val_loss: 0.0595 - val_accuracy: 1.0000\n",
      "Epoch 55/100\n",
      "6/6 [==============================] - 0s 7ms/step - loss: 0.0942 - accuracy: 0.9818 - val_loss: 0.0570 - val_accuracy: 1.0000\n",
      "Epoch 56/100\n",
      "6/6 [==============================] - 0s 8ms/step - loss: 0.0763 - accuracy: 1.0000 - val_loss: 0.0546 - val_accuracy: 1.0000\n",
      "Epoch 57/100\n",
      "6/6 [==============================] - 0s 11ms/step - loss: 0.0661 - accuracy: 1.0000 - val_loss: 0.0524 - val_accuracy: 1.0000\n",
      "Epoch 58/100\n",
      "6/6 [==============================] - 0s 9ms/step - loss: 0.0770 - accuracy: 1.0000 - val_loss: 0.0503 - val_accuracy: 1.0000\n",
      "Epoch 59/100\n"
     ]
    },
    {
     "name": "stdout",
     "output_type": "stream",
     "text": [
      "6/6 [==============================] - 0s 7ms/step - loss: 0.0943 - accuracy: 1.0000 - val_loss: 0.0483 - val_accuracy: 1.0000\n",
      "Epoch 60/100\n",
      "6/6 [==============================] - 0s 7ms/step - loss: 0.0624 - accuracy: 1.0000 - val_loss: 0.0465 - val_accuracy: 1.0000\n",
      "Epoch 61/100\n",
      "6/6 [==============================] - 0s 6ms/step - loss: 0.0691 - accuracy: 1.0000 - val_loss: 0.0446 - val_accuracy: 1.0000\n",
      "Epoch 62/100\n",
      "6/6 [==============================] - 0s 7ms/step - loss: 0.0801 - accuracy: 1.0000 - val_loss: 0.0428 - val_accuracy: 1.0000\n",
      "Epoch 63/100\n",
      "6/6 [==============================] - 0s 6ms/step - loss: 0.0688 - accuracy: 1.0000 - val_loss: 0.0411 - val_accuracy: 1.0000\n",
      "Epoch 64/100\n",
      "6/6 [==============================] - 0s 7ms/step - loss: 0.0488 - accuracy: 1.0000 - val_loss: 0.0395 - val_accuracy: 1.0000\n",
      "Epoch 65/100\n",
      "6/6 [==============================] - 0s 7ms/step - loss: 0.0694 - accuracy: 0.9818 - val_loss: 0.0379 - val_accuracy: 1.0000\n",
      "Epoch 66/100\n",
      "6/6 [==============================] - 0s 6ms/step - loss: 0.0793 - accuracy: 0.9818 - val_loss: 0.0365 - val_accuracy: 1.0000\n",
      "Epoch 67/100\n",
      "6/6 [==============================] - 0s 7ms/step - loss: 0.0469 - accuracy: 1.0000 - val_loss: 0.0351 - val_accuracy: 1.0000\n",
      "Epoch 68/100\n",
      "6/6 [==============================] - 0s 6ms/step - loss: 0.0434 - accuracy: 1.0000 - val_loss: 0.0338 - val_accuracy: 1.0000\n",
      "Epoch 69/100\n",
      "6/6 [==============================] - 0s 6ms/step - loss: 0.0522 - accuracy: 1.0000 - val_loss: 0.0325 - val_accuracy: 1.0000\n",
      "Epoch 70/100\n",
      "6/6 [==============================] - 0s 8ms/step - loss: 0.0696 - accuracy: 1.0000 - val_loss: 0.0312 - val_accuracy: 1.0000\n",
      "Epoch 71/100\n",
      "6/6 [==============================] - 0s 7ms/step - loss: 0.0460 - accuracy: 1.0000 - val_loss: 0.0300 - val_accuracy: 1.0000\n",
      "Epoch 72/100\n",
      "6/6 [==============================] - 0s 7ms/step - loss: 0.0374 - accuracy: 1.0000 - val_loss: 0.0289 - val_accuracy: 1.0000\n",
      "Epoch 73/100\n",
      "6/6 [==============================] - 0s 7ms/step - loss: 0.0993 - accuracy: 0.9818 - val_loss: 0.0277 - val_accuracy: 1.0000\n",
      "Epoch 74/100\n",
      "6/6 [==============================] - 0s 8ms/step - loss: 0.0669 - accuracy: 1.0000 - val_loss: 0.0265 - val_accuracy: 1.0000\n",
      "Epoch 75/100\n",
      "6/6 [==============================] - 0s 8ms/step - loss: 0.0694 - accuracy: 1.0000 - val_loss: 0.0253 - val_accuracy: 1.0000\n",
      "Epoch 76/100\n",
      "6/6 [==============================] - 0s 8ms/step - loss: 0.0318 - accuracy: 1.0000 - val_loss: 0.0242 - val_accuracy: 1.0000\n",
      "Epoch 77/100\n",
      "6/6 [==============================] - 0s 6ms/step - loss: 0.0359 - accuracy: 1.0000 - val_loss: 0.0233 - val_accuracy: 1.0000\n",
      "Epoch 78/100\n",
      "6/6 [==============================] - 0s 8ms/step - loss: 0.0523 - accuracy: 0.9818 - val_loss: 0.0224 - val_accuracy: 1.0000\n",
      "Epoch 79/100\n",
      "6/6 [==============================] - 0s 6ms/step - loss: 0.0352 - accuracy: 1.0000 - val_loss: 0.0216 - val_accuracy: 1.0000\n",
      "Epoch 80/100\n",
      "6/6 [==============================] - 0s 21ms/step - loss: 0.0641 - accuracy: 1.0000 - val_loss: 0.0208 - val_accuracy: 1.0000\n",
      "Epoch 81/100\n",
      "6/6 [==============================] - 0s 6ms/step - loss: 0.0579 - accuracy: 1.0000 - val_loss: 0.0200 - val_accuracy: 1.0000\n",
      "Epoch 82/100\n",
      "6/6 [==============================] - 0s 6ms/step - loss: 0.0457 - accuracy: 0.9818 - val_loss: 0.0192 - val_accuracy: 1.0000\n",
      "Epoch 83/100\n",
      "6/6 [==============================] - 0s 7ms/step - loss: 0.0407 - accuracy: 1.0000 - val_loss: 0.0185 - val_accuracy: 1.0000\n",
      "Epoch 84/100\n",
      "6/6 [==============================] - 0s 6ms/step - loss: 0.0492 - accuracy: 0.9818 - val_loss: 0.0178 - val_accuracy: 1.0000\n",
      "Epoch 85/100\n",
      "6/6 [==============================] - 0s 7ms/step - loss: 0.0338 - accuracy: 1.0000 - val_loss: 0.0172 - val_accuracy: 1.0000\n",
      "Epoch 86/100\n",
      "6/6 [==============================] - 0s 8ms/step - loss: 0.0186 - accuracy: 1.0000 - val_loss: 0.0166 - val_accuracy: 1.0000\n",
      "Epoch 87/100\n",
      "6/6 [==============================] - 0s 9ms/step - loss: 0.0521 - accuracy: 1.0000 - val_loss: 0.0160 - val_accuracy: 1.0000\n",
      "Epoch 88/100\n",
      "6/6 [==============================] - 0s 8ms/step - loss: 0.0377 - accuracy: 1.0000 - val_loss: 0.0154 - val_accuracy: 1.0000\n",
      "Epoch 89/100\n",
      "6/6 [==============================] - 0s 9ms/step - loss: 0.0763 - accuracy: 0.9636 - val_loss: 0.0149 - val_accuracy: 1.0000\n",
      "Epoch 90/100\n",
      "6/6 [==============================] - 0s 8ms/step - loss: 0.0678 - accuracy: 0.9636 - val_loss: 0.0144 - val_accuracy: 1.0000\n",
      "Epoch 91/100\n",
      "6/6 [==============================] - 0s 8ms/step - loss: 0.0521 - accuracy: 0.9818 - val_loss: 0.0138 - val_accuracy: 1.0000\n",
      "Epoch 92/100\n",
      "6/6 [==============================] - 0s 7ms/step - loss: 0.0302 - accuracy: 1.0000 - val_loss: 0.0134 - val_accuracy: 1.0000\n",
      "Epoch 93/100\n",
      "6/6 [==============================] - 0s 7ms/step - loss: 0.0339 - accuracy: 1.0000 - val_loss: 0.0129 - val_accuracy: 1.0000\n",
      "Epoch 94/100\n",
      "6/6 [==============================] - 0s 8ms/step - loss: 0.0314 - accuracy: 1.0000 - val_loss: 0.0125 - val_accuracy: 1.0000\n",
      "Epoch 95/100\n",
      "6/6 [==============================] - 0s 8ms/step - loss: 0.0188 - accuracy: 1.0000 - val_loss: 0.0121 - val_accuracy: 1.0000\n",
      "Epoch 96/100\n",
      "6/6 [==============================] - 0s 8ms/step - loss: 0.0391 - accuracy: 0.9818 - val_loss: 0.0117 - val_accuracy: 1.0000\n",
      "Epoch 97/100\n",
      "6/6 [==============================] - 0s 8ms/step - loss: 0.0227 - accuracy: 1.0000 - val_loss: 0.0114 - val_accuracy: 1.0000\n",
      "Epoch 98/100\n",
      "6/6 [==============================] - 0s 8ms/step - loss: 0.0690 - accuracy: 0.9636 - val_loss: 0.0110 - val_accuracy: 1.0000\n",
      "Epoch 99/100\n",
      "6/6 [==============================] - 0s 8ms/step - loss: 0.0505 - accuracy: 1.0000 - val_loss: 0.0106 - val_accuracy: 1.0000\n",
      "Epoch 100/100\n",
      "6/6 [==============================] - 0s 9ms/step - loss: 0.0467 - accuracy: 0.9636 - val_loss: 0.0102 - val_accuracy: 1.0000\n"
     ]
    }
   ],
   "source": [
    "predict(df,X,y)"
   ]
  },
  {
   "cell_type": "code",
   "execution_count": 130,
   "metadata": {},
   "outputs": [
    {
     "data": {
      "image/png": "[encoded data removed]",
      "text/plain": [
       "<Figure size 432x288 with 1 Axes>"
      ]
     },
     "metadata": {
      "needs_background": "light"
     },
     "output_type": "display_data"
    }
   ],
   "source": [
    "accuracy_plot()"
   ]
  },
  {
   "cell_type": "code",
   "execution_count": 131,
   "metadata": {},
   "outputs": [
    {
     "name": "stdout",
     "output_type": "stream",
     "text": [
      "1.0\n"
     ]
    }
   ],
   "source": [
    "prediction_acc()"
   ]
  },
  {
   "cell_type": "code",
   "execution_count": 132,
   "metadata": {},
   "outputs": [
    {
     "name": "stdout",
     "output_type": "stream",
     "text": [
      "Model: \"sequential\"\n",
      "_________________________________________________________________\n",
      "Layer (type)                 Output Shape              Param #   \n",
      "=================================================================\n",
      "dense (Dense)                (None, 6)                 30        \n",
      "_________________________________________________________________\n",
      "dense_1 (Dense)              (None, 2)                 14        \n",
      "_________________________________________________________________\n",
      "dense_2 (Dense)              (None, 1)                 3         \n",
      "=================================================================\n",
      "Total params: 47\n",
      "Trainable params: 47\n",
      "Non-trainable params: 0\n",
      "_________________________________________________________________\n"
     ]
    }
   ],
   "source": [
    "classifier.summary()"
   ]
  }
 ],
 "metadata": {
  "kernelspec": {
   "display_name": "Python 3",
   "language": "python",
   "name": "python3"
  },
  "language_info": {
   "codemirror_mode": {
    "name": "ipython",
    "version": 3
   },
   "file_extension": ".py",
   "mimetype": "text/x-python",
   "name": "python",
   "nbconvert_exporter": "python",
   "pygments_lexer": "ipython3",
   "version": "3.7.6"
  }
 },
 "nbformat": 4,
 "nbformat_minor": 4
}
